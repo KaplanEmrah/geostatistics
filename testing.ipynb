{
 "cells": [
  {
   "cell_type": "code",
   "execution_count": 1,
   "metadata": {
    "collapsed": true
   },
   "outputs": [],
   "source": [
    "%matplotlib inline\n",
    "from __future__ import division\n",
    "import numpy as np\n",
    "from scipy import stats\n",
    "from scipy import spatial\n",
    "import gaussian\n",
    "import matplotlib.pyplot as plt"
   ]
  },
  {
   "cell_type": "code",
   "execution_count": 2,
   "metadata": {
    "collapsed": false
   },
   "outputs": [
    {
     "name": "stdout",
     "output_type": "stream",
     "text": [
      "[[  40.582 -119.79    84.929]\n",
      " [  41.983 -123.6     87.388]\n",
      " [  41.85  -123.97    36.259]\n",
      " [  42.07  -123.01    84.913]\n",
      " [  41.953 -121.58    66.445]] (414, 3)\n"
     ]
    }
   ],
   "source": [
    "# Import training data\n",
    "\n",
    "train = np.genfromtxt('data/trn_data.csv', delimiter=',',skip_header=True)\n",
    "print train[:5], train.shape"
   ]
  },
  {
   "cell_type": "code",
   "execution_count": 3,
   "metadata": {
    "collapsed": false
   },
   "outputs": [
    {
     "data": {
      "text/plain": [
       "DescribeResult(nobs=414, minmax=(3.1692999999999998, 134.25), mean=70.239483816425121, variance=717.7203728115777, skewness=-0.14928497285720768, kurtosis=-0.7441244511130987)"
      ]
     },
     "execution_count": 3,
     "metadata": {},
     "output_type": "execute_result"
    }
   ],
   "source": [
    "stats.describe(train[:,-1])"
   ]
  },
  {
   "cell_type": "code",
   "execution_count": 4,
   "metadata": {
    "collapsed": false
   },
   "outputs": [
    {
     "name": "stdout",
     "output_type": "stream",
     "text": [
      "[[  41.988 -123.72 ]\n",
      " [  41.883 -124.13 ]\n",
      " [  41.833 -123.83 ]\n",
      " [  41.999 -121.7  ]\n",
      " [  41.928 -122.44 ]] (413, 2)\n"
     ]
    }
   ],
   "source": [
    "# Import test data\n",
    "\n",
    "test = np.genfromtxt('data/tst_locations.csv', delimiter=',',skip_header=True)\n",
    "print test[:5], test.shape"
   ]
  },
  {
   "cell_type": "code",
   "execution_count": 5,
   "metadata": {
    "collapsed": true
   },
   "outputs": [],
   "source": [
    "# Create model object from training data\n",
    "\n",
    "kriging = gaussian.SimpleKriging(training_data=train)"
   ]
  },
  {
   "cell_type": "code",
   "execution_count": 6,
   "metadata": {
    "collapsed": false
   },
   "outputs": [
    {
     "data": {
      "text/plain": [
       "array([[ 70.94340417],\n",
       "       [ 23.70437824],\n",
       "       [ 49.57131344],\n",
       "       [ 71.06713418],\n",
       "       [ 70.69029366]])"
      ]
     },
     "execution_count": 6,
     "metadata": {},
     "output_type": "execute_result"
    }
   ],
   "source": [
    "# Return prediction means for test data from trained model\n",
    "\n",
    "predict = kriging.predict(test_data=test, l=.5, sigma=.2)\n",
    "predict[:5]"
   ]
  },
  {
   "cell_type": "code",
   "execution_count": 7,
   "metadata": {
    "collapsed": false
   },
   "outputs": [
    {
     "data": {
      "text/plain": [
       "array([[  40.582, -119.79 ],\n",
       "       [  41.983, -123.6  ],\n",
       "       [  41.85 , -123.97 ],\n",
       "       [  42.07 , -123.01 ],\n",
       "       [  41.953, -121.58 ]])"
      ]
     },
     "execution_count": 7,
     "metadata": {},
     "output_type": "execute_result"
    }
   ],
   "source": [
    "# Simulate\n",
    "coords = np.concatenate((train[:, :-1], test), axis=0)\n",
    "coords[:5,:]"
   ]
  },
  {
   "cell_type": "code",
   "execution_count": 8,
   "metadata": {
    "collapsed": false
   },
   "outputs": [
    {
     "name": "stdout",
     "output_type": "stream",
     "text": [
      "[32.604999999999997, 42.07, -124.25, -114.48999999999999]\n"
     ]
    }
   ],
   "source": [
    "bounding_box = [coords[:,0].min(), coords[:,0].max(), coords[:,1].min(), coords[:,1].max()]\n",
    "print bounding_box"
   ]
  },
  {
   "cell_type": "code",
   "execution_count": 9,
   "metadata": {
    "collapsed": false
   },
   "outputs": [],
   "source": [
    "simulate = kriging.simulate(bbox=bounding_box, \n",
    "                            ncells=50, \n",
    "                            l=1.95, \n",
    "                            sigma=0.2, \n",
    "                            indices=False)"
   ]
  },
  {
   "cell_type": "code",
   "execution_count": 10,
   "metadata": {
    "collapsed": false
   },
   "outputs": [
    {
     "data": {
      "image/png": "[encoded data removed]",
      "text/plain": [
       "<matplotlib.figure.Figure at 0x7f5d2be18b10>"
      ]
     },
     "metadata": {},
     "output_type": "display_data"
    }
   ],
   "source": [
    "viz = kriging.simulate(bbox=bounding_box, \n",
    "                       ncells=50, \n",
    "                       l=1.05, \n",
    "                       sigma=0.195, \n",
    "                       indices=True, \n",
    "                       show_visual=False, \n",
    "                       save_kml='sim')"
   ]
  },
  {
   "cell_type": "code",
   "execution_count": 11,
   "metadata": {
    "collapsed": false
   },
   "outputs": [],
   "source": [
    "grid = gaussian.make_grid(bounding_box, 50)"
   ]
  },
  {
   "cell_type": "code",
   "execution_count": 12,
   "metadata": {
    "collapsed": false
   },
   "outputs": [
    {
     "data": {
      "text/plain": [
       "array([[  42.07      , -114.49      ],\n",
       "       [  41.87683673, -114.49      ],\n",
       "       [  41.68367347, -114.49      ],\n",
       "       ..., \n",
       "       [  32.99132653, -124.25      ],\n",
       "       [  32.79816327, -124.25      ],\n",
       "       [  32.605     , -124.25      ]])"
      ]
     },
     "execution_count": 12,
     "metadata": {},
     "output_type": "execute_result"
    }
   ],
   "source": [
    "grid"
   ]
  },
  {
   "cell_type": "code",
   "execution_count": 13,
   "metadata": {
    "collapsed": false
   },
   "outputs": [
    {
     "data": {
      "text/plain": [
       "[32.604999999999997, 42.07, -124.25, -114.48999999999999]"
      ]
     },
     "execution_count": 13,
     "metadata": {},
     "output_type": "execute_result"
    }
   ],
   "source": [
    "bounding_box"
   ]
  },
  {
   "cell_type": "code",
   "execution_count": 14,
   "metadata": {
    "collapsed": false
   },
   "outputs": [
    {
     "data": {
      "image/png": "[encoded data removed]",
      "text/plain": [
       "<matplotlib.figure.Figure at 0x7f5d29b74d90>"
      ]
     },
     "metadata": {},
     "output_type": "display_data"
    }
   ],
   "source": [
    "fig, ax = plt.subplots(1)\n",
    "fig.subplots_adjust(left=0, right=1, bottom=0, top=1)\n",
    "y = grid[:, 0]\n",
    "x = grid[:, 1]\n",
    "\n",
    "ax.scatter(x, y, c=simulate, s=50, edgecolors='', marker='s', alpha=0.3)\n",
    "# ax.axis('tight')\n",
    "ax.axis([bounding_box[2], bounding_box[3], bounding_box[0], bounding_box[1]])\n",
    "ax.axis('off')\n",
    "plt.savefig('sim.png')"
   ]
  },
  {
   "cell_type": "code",
   "execution_count": 15,
   "metadata": {
    "collapsed": true
   },
   "outputs": [],
   "source": [
    "import simplekml"
   ]
  },
  {
   "cell_type": "code",
   "execution_count": 16,
   "metadata": {
    "collapsed": false
   },
   "outputs": [
    {
     "data": {
      "text/plain": [
       "[32.604999999999997, 42.07, -124.25, -114.48999999999999]"
      ]
     },
     "execution_count": 16,
     "metadata": {},
     "output_type": "execute_result"
    }
   ],
   "source": [
    "bounding_box"
   ]
  },
  {
   "cell_type": "code",
   "execution_count": 17,
   "metadata": {
    "collapsed": true
   },
   "outputs": [],
   "source": [
    "kml = simplekml.Kml()\n",
    "ground = kml.newgroundoverlay(name='GroundOverlay')\n",
    "ground.icon.href = 'sim.png'\n",
    "ground.latlonbox.north = bounding_box[1]\n",
    "ground.latlonbox.south = bounding_box[0]\n",
    "ground.latlonbox.east =  bounding_box[3]\n",
    "ground.latlonbox.west =  bounding_box[2]\n",
    "kml.save(\"GroundOverlay.kml\")"
   ]
  },
  {
   "cell_type": "code",
   "execution_count": null,
   "metadata": {
    "collapsed": true
   },
   "outputs": [],
   "source": []
  }
 ],
 "metadata": {
  "kernelspec": {
   "display_name": "Python 2",
   "language": "python",
   "name": "python2"
  },
  "language_info": {
   "codemirror_mode": {
    "name": "ipython",
    "version": 2
   },
   "file_extension": ".py",
   "mimetype": "text/x-python",
   "name": "python",
   "nbconvert_exporter": "python",
   "pygments_lexer": "ipython2",
   "version": "2.7.12"
  }
 },
 "nbformat": 4,
 "nbformat_minor": 0
}
